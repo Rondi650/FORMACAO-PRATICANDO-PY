{
 "cells": [
  {
   "cell_type": "code",
   "execution_count": 21,
   "id": "44988d29",
   "metadata": {},
   "outputs": [
    {
     "name": "stdout",
     "output_type": "stream",
     "text": [
      "ljk\n"
     ]
    }
   ],
   "source": [
    "import random\n",
    "\n",
    "teste= 'asdaSASSDVBSHT96u7tyji0-hnmiGHI[0TD9JLT-J]OUYKOIPCMGNILZUHNLB;ALKMG;OZLDBhajn'\n",
    "teste2 = ['asd', 'asdasd', 123,'ljk']\n",
    "print(random.choice(teste2))"
   ]
  },
  {
   "cell_type": "code",
   "execution_count": 23,
   "id": "dc85c052",
   "metadata": {},
   "outputs": [
    {
     "name": "stdout",
     "output_type": "stream",
     "text": [
      "Y\n"
     ]
    }
   ],
   "source": [
    "import random\n",
    "\n",
    "teste= 'asdaSASSDVBSHT96u7tyji0-hnmiGHI[0TD9JLT-J]OUYKOIPCMGNILZUHNLB;ALKMG;OZLDBhajn'\n",
    "teste2 = ['asd', 'asdasd', 123,'ljk']\n",
    "print(random.choice(teste))"
   ]
  }
 ],
 "metadata": {
  "kernelspec": {
   "display_name": "Python 3",
   "language": "python",
   "name": "python3"
  },
  "language_info": {
   "codemirror_mode": {
    "name": "ipython",
    "version": 3
   },
   "file_extension": ".py",
   "mimetype": "text/x-python",
   "name": "python",
   "nbconvert_exporter": "python",
   "pygments_lexer": "ipython3",
   "version": "3.13.5"
  }
 },
 "nbformat": 4,
 "nbformat_minor": 5
}
