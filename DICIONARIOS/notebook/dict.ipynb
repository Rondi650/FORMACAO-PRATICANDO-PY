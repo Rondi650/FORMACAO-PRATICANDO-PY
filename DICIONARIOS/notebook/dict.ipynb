{
 "cells": [
  {
   "cell_type": "code",
   "execution_count": 21,
   "id": "5ded4688",
   "metadata": {},
   "outputs": [
    {
     "data": {
      "text/plain": [
       "{'asddas': 'asdas', 'ghgh': 'ytuyt'}"
      ]
     },
     "execution_count": 21,
     "metadata": {},
     "output_type": "execute_result"
    }
   ],
   "source": [
    "dicionario = {}\n",
    "\n",
    "while True:\n",
    "    teste = input('Digite x para sair')\n",
    "    if teste == 'x':\n",
    "        break\n",
    "    \n",
    "    nome = input('Digite o nome do produto: ')\n",
    "    qtd = input('Digite a quantidade: ')\n",
    "    \n",
    "    dicionario[nome] = qtd\n",
    "\n",
    "dicionario"
   ]
  }
 ],
 "metadata": {
  "kernelspec": {
   "display_name": "Python 3",
   "language": "python",
   "name": "python3"
  },
  "language_info": {
   "codemirror_mode": {
    "name": "ipython",
    "version": 3
   },
   "file_extension": ".py",
   "mimetype": "text/x-python",
   "name": "python",
   "nbconvert_exporter": "python",
   "pygments_lexer": "ipython3",
   "version": "3.13.5"
  }
 },
 "nbformat": 4,
 "nbformat_minor": 5
}
