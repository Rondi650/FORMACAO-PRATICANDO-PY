{
 "cells": [
  {
   "cell_type": "code",
   "execution_count": 21,
   "id": "5ded4688",
   "metadata": {},
   "outputs": [
    {
     "data": {
      "text/plain": [
       "{'asddas': 'asdas', 'ghgh': 'ytuyt'}"
      ]
     },
     "execution_count": 21,
     "metadata": {},
     "output_type": "execute_result"
    }
   ],
   "source": [
    "dicionario = {}\n",
    "\n",
    "while True:\n",
    "    teste = input('Digite x para sair')\n",
    "    if teste == 'x':\n",
    "        break\n",
    "    \n",
    "    nome = input('Digite o nome do produto: ')\n",
    "    qtd = input('Digite a quantidade: ')\n",
    "    \n",
    "    dicionario[nome] = qtd\n",
    "\n",
    "dicionario"
   ]
  },
  {
   "cell_type": "code",
   "execution_count": 12,
   "id": "acbdb86a",
   "metadata": {},
   "outputs": [
    {
     "name": "stdout",
     "output_type": "stream",
     "text": [
      "Nomes dos participantes: Mariana, Carlos, Beatriz, Rafael\n"
     ]
    },
    {
     "data": {
      "text/plain": [
       "{'Mariana, Carlos, Beatriz, Rafael'}"
      ]
     },
     "execution_count": 12,
     "metadata": {},
     "output_type": "execute_result"
    }
   ],
   "source": [
    "participantes = { \n",
    "    \"Mariana\": 25, \n",
    "    \"Carlos\": 32, \n",
    "    \"Beatriz\": 28, \n",
    "    \"Rafael\": 35 \n",
    "} \n",
    "\n",
    "print(f\"Nomes dos participantes: {', '.join(participantes.keys())}\") \n",
    "{', '.join(participantes.keys())}"
   ]
  },
  {
   "cell_type": "code",
   "execution_count": 17,
   "id": "6b5b87a1",
   "metadata": {},
   "outputs": [
    {
     "name": "stdout",
     "output_type": "stream",
     "text": [
      "Mariana, Carlos, Beatriz, Rafael\n"
     ]
    },
    {
     "data": {
      "text/plain": [
       "\"{'Mariana, Carlos, Beatriz, Rafael'}\""
      ]
     },
     "execution_count": 17,
     "metadata": {},
     "output_type": "execute_result"
    }
   ],
   "source": [
    "participantes = { \n",
    "    \"Mariana\": 25, \n",
    "    \"Carlos\": 32, \n",
    "    \"Beatriz\": 28, \n",
    "    \"Rafael\": 35 \n",
    "} \n",
    "\n",
    "print(f\"{', '.join(participantes.keys())}\")\n",
    "str({', '.join(participantes.keys())})"
   ]
  },
  {
   "cell_type": "code",
   "execution_count": 20,
   "id": "09d6678c",
   "metadata": {},
   "outputs": [
    {
     "data": {
      "text/plain": [
       "True"
      ]
     },
     "execution_count": 20,
     "metadata": {},
     "output_type": "execute_result"
    }
   ],
   "source": [
    "participantes = { \n",
    "    \"Workshop 1\": {\"Alice\", \"Bruno\", \"Carla\", \"Diego\"}, \n",
    "    \"Workshop 2\": {\"Fernanda\", \"Gustavo\", \"Helena\"} \n",
    "} \n",
    "\n",
    "\n",
    "nome_remover = input('Nome do participante a ser removido: ')\n",
    "\n",
    "nome_remover in participantes[\"Workshop 1\"]"
   ]
  },
  {
   "cell_type": "code",
   "execution_count": 4,
   "id": "769f05fc",
   "metadata": {},
   "outputs": [
    {
     "name": "stdout",
     "output_type": "stream",
     "text": [
      "Workshop 1 {'Diego', 'Carla', 'Bruno', 'Alice'}\n",
      "Workshop 2 {'Helena', 'Fernanda', 'Gustavo'}\n"
     ]
    }
   ],
   "source": [
    "participantes = { \n",
    "    \"Workshop 1\": {\"Alice\", \"Bruno\", \"Carla\", \"Diego\"}, \n",
    "    \"Workshop 2\": {\"Fernanda\", \"Gustavo\", \"Helena\"} \n",
    "}\n",
    "\n",
    "for workshop, nomes in participantes.items(): \n",
    "    print(workshop, nomes)\n",
    "    nomes.discard(nome_remover) \n"
   ]
  }
 ],
 "metadata": {
  "kernelspec": {
   "display_name": "Python 3",
   "language": "python",
   "name": "python3"
  },
  "language_info": {
   "codemirror_mode": {
    "name": "ipython",
    "version": 3
   },
   "file_extension": ".py",
   "mimetype": "text/x-python",
   "name": "python",
   "nbconvert_exporter": "python",
   "pygments_lexer": "ipython3",
   "version": "3.13.5"
  }
 },
 "nbformat": 4,
 "nbformat_minor": 5
}
