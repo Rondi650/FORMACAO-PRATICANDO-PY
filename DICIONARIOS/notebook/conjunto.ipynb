{
 "cells": [
  {
   "cell_type": "code",
   "execution_count": 2,
   "id": "1d1754c6",
   "metadata": {},
   "outputs": [
    {
     "data": {
      "text/plain": [
       "{1, 3, 'a'}"
      ]
     },
     "execution_count": 2,
     "metadata": {},
     "output_type": "execute_result"
    }
   ],
   "source": [
    "conjunto = set()\n",
    "\n",
    "conjunto.add(1)\n",
    "conjunto.add(3)\n",
    "conjunto.add('a')\n",
    "\n",
    "conjunto"
   ]
  },
  {
   "cell_type": "code",
   "execution_count": 13,
   "id": "d2de308b",
   "metadata": {},
   "outputs": [
    {
     "name": "stdout",
     "output_type": "stream",
     "text": [
      "Carla, João\n"
     ]
    }
   ],
   "source": [
    "nomes = {'João', 'Ana', 'Carla'}\n",
    "nomes.discard('Ana')\n",
    "print(', '.join(nomes))"
   ]
  },
  {
   "cell_type": "code",
   "execution_count": 7,
   "id": "2e9ed449",
   "metadata": {},
   "outputs": [],
   "source": [
    "nomes = {'João', ' Ana ', 'Carla '}"
   ]
  }
 ],
 "metadata": {
  "kernelspec": {
   "display_name": "Python 3",
   "language": "python",
   "name": "python3"
  },
  "language_info": {
   "codemirror_mode": {
    "name": "ipython",
    "version": 3
   },
   "file_extension": ".py",
   "mimetype": "text/x-python",
   "name": "python",
   "nbconvert_exporter": "python",
   "pygments_lexer": "ipython3",
   "version": "3.13.5"
  }
 },
 "nbformat": 4,
 "nbformat_minor": 5
}
