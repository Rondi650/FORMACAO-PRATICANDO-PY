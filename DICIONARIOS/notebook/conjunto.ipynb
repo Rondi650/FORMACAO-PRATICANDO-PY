{
 "cells": [
  {
   "cell_type": "code",
   "execution_count": 2,
   "id": "1d1754c6",
   "metadata": {},
   "outputs": [
    {
     "data": {
      "text/plain": [
       "{1, 3, 'a'}"
      ]
     },
     "execution_count": 2,
     "metadata": {},
     "output_type": "execute_result"
    }
   ],
   "source": [
    "conjunto = set()\n",
    "\n",
    "conjunto.add(1)\n",
    "conjunto.add(3)\n",
    "conjunto.add('a')\n",
    "\n",
    "conjunto"
   ]
  },
  {
   "cell_type": "code",
   "execution_count": 13,
   "id": "d2de308b",
   "metadata": {},
   "outputs": [
    {
     "name": "stdout",
     "output_type": "stream",
     "text": [
      "Carla, João\n"
     ]
    }
   ],
   "source": [
    "nomes = {'João', 'Ana', 'Carla'}\n",
    "nomes.discard('Ana')\n",
    "print(', '.join(nomes))"
   ]
  },
  {
   "cell_type": "code",
   "execution_count": 7,
   "id": "2e9ed449",
   "metadata": {},
   "outputs": [],
   "source": [
    "nomes = {'João', ' Ana ', 'Carla '}"
   ]
  },
  {
   "cell_type": "code",
   "execution_count": 109,
   "id": "e2c991c1",
   "metadata": {},
   "outputs": [
    {
     "name": "stdout",
     "output_type": "stream",
     "text": [
      "[True, True]\n",
      "As permissões solicitadas fazem parte das permissões principais.\n"
     ]
    }
   ],
   "source": [
    "lista1 = {'escrita', 'leitura', 'compartilhamento', 'execução'}\n",
    "lista2 = {'escrita', 'leitura'}\n",
    "\n",
    "\n",
    "comprehension = [i in lista1 for i in lista2]\n",
    "    \n",
    "if all (comprehension):\n",
    "    print('As permissões solicitadas fazem parte das permissões principais.') \n",
    "else:\n",
    "    print('As permissões solicitadas não fazem parte das permissões principais.')\n",
    "    \n",
    "    \n",
    "# lista = []\n",
    "# for i in lista2:  \n",
    "#     lista.append(i in lista1)\n",
    "        \n",
    "# print(lista)\n",
    "\n"
   ]
  },
  {
   "cell_type": "code",
   "execution_count": 120,
   "id": "51a6d947",
   "metadata": {},
   "outputs": [
    {
     "data": {
      "text/plain": [
       "{'corrigir bug', 'implementar funcionalidade', 'testar sistema', 'teste'}"
      ]
     },
     "execution_count": 120,
     "metadata": {},
     "output_type": "execute_result"
    }
   ],
   "source": [
    "equipe_b = {\"testar sistema\", \"implementar funcionalidade\", \"corrigir bug\"} \n",
    "equipe_b.add('teste')\n",
    "equipe_b\n"
   ]
  },
  {
   "cell_type": "code",
   "execution_count": 121,
   "id": "2db80e4d",
   "metadata": {},
   "outputs": [
    {
     "data": {
      "text/plain": [
       "'implementar funcionalidade'"
      ]
     },
     "execution_count": 121,
     "metadata": {},
     "output_type": "execute_result"
    }
   ],
   "source": [
    "equipe_b.remove('teste')\n",
    "equipe_b.discard('testar sistema')\n",
    "equipe_b.pop()"
   ]
  }
 ],
 "metadata": {
  "kernelspec": {
   "display_name": "Python 3",
   "language": "python",
   "name": "python3"
  },
  "language_info": {
   "codemirror_mode": {
    "name": "ipython",
    "version": 3
   },
   "file_extension": ".py",
   "mimetype": "text/x-python",
   "name": "python",
   "nbconvert_exporter": "python",
   "pygments_lexer": "ipython3",
   "version": "3.13.5"
  }
 },
 "nbformat": 4,
 "nbformat_minor": 5
}
