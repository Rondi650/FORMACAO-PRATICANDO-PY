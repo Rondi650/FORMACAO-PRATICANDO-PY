{
 "cells": [
  {
   "cell_type": "code",
   "execution_count": null,
   "id": "a4cdc48d",
   "metadata": {},
   "outputs": [
    {
     "name": "stdout",
     "output_type": "stream",
     "text": [
      "Número fora do intervalo. Tente novamente.\n",
      "Número fora do intervalo. Tente novamente.\n",
      "Entrada inválida. Por favor, digite apenas números.\n",
      "Entrada inválida. Por favor, digite apenas números.\n",
      "Número fora do intervalo. Tente novamente.\n",
      "Você digitou o número válido: 5\n"
     ]
    }
   ],
   "source": [
    "while True:\n",
    "    entrada = input(\"Digite um número entre 1 e 10: \")\n",
    "    if entrada.isdigit():\n",
    "        numero = int(entrada)\n",
    "        if 1 <= numero <= 10:\n",
    "            print(f\"Você digitou o número válido: {numero}\")\n",
    "            break  # Sai do loop quando um número válido é inserido\n",
    "        else:\n",
    "            print(\"Número fora do intervalo. Tente novamente.\")\n",
    "    else:\n",
    "        print(\"Entrada inválida. Por favor, digite apenas números.\")\n"
   ]
  }
 ],
 "metadata": {
  "kernelspec": {
   "display_name": "Python 3",
   "language": "python",
   "name": "python3"
  },
  "language_info": {
   "codemirror_mode": {
    "name": "ipython",
    "version": 3
   },
   "file_extension": ".py",
   "mimetype": "text/x-python",
   "name": "python",
   "nbconvert_exporter": "python",
   "pygments_lexer": "ipython3",
   "version": "3.13.5"
  }
 },
 "nbformat": 4,
 "nbformat_minor": 5
}
