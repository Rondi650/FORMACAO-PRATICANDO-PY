{
 "cells": [
  {
   "cell_type": "code",
   "execution_count": 1,
   "id": "e7ff6ff3",
   "metadata": {},
   "outputs": [
    {
     "name": "stdout",
     "output_type": "stream",
     "text": [
      "Contador: 1\n",
      "Contador: 2\n",
      "Contador: 3\n",
      "Contador: 4\n",
      "Contador: 5\n",
      "Contador: 6\n",
      "Contador: 7\n",
      "Contador: 8\n",
      "Contador: 9\n",
      "Contador: 10\n"
     ]
    }
   ],
   "source": [
    "contador = 1\n",
    "\n",
    "while contador <= 10:\n",
    "    print(f'Contador: {contador}')\n",
    "    contador +=1"
   ]
  },
  {
   "cell_type": "code",
   "execution_count": 2,
   "id": "68a5b28f",
   "metadata": {},
   "outputs": [
    {
     "name": "stdout",
     "output_type": "stream",
     "text": [
      "Contador: 1\n",
      "Contador: 2\n",
      "Contador: 3\n",
      "Contador: 4\n",
      "Contador: 5\n",
      "Contador: 6\n",
      "Contador: 7\n",
      "Contador: 8\n",
      "Contador: 9\n",
      "Contador: 10\n"
     ]
    }
   ],
   "source": [
    "for numero in range(1,11):\n",
    "    print(f'Contador: {numero}')"
   ]
  }
 ],
 "metadata": {
  "kernelspec": {
   "display_name": "Python 3",
   "language": "python",
   "name": "python3"
  },
  "language_info": {
   "codemirror_mode": {
    "name": "ipython",
    "version": 3
   },
   "file_extension": ".py",
   "mimetype": "text/x-python",
   "name": "python",
   "nbconvert_exporter": "python",
   "pygments_lexer": "ipython3",
   "version": "3.13.5"
  }
 },
 "nbformat": 4,
 "nbformat_minor": 5
}
