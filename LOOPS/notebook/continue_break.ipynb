{
 "cells": [
  {
   "cell_type": "markdown",
   "id": "637f5886",
   "metadata": {},
   "source": [
    "### Resumo do `continue`\n",
    "\n",
    "- O comando `continue` é usado dentro de loops (`for` ou `while`).\n",
    "- Quando o `continue` é executado, ele pula o restante do código dentro do loop para aquela iteração e vai direto para a próxima repetição.\n",
    "- Útil para ignorar certos casos sem sair do loop."
   ]
  },
  {
   "cell_type": "code",
   "execution_count": 8,
   "id": "07be152c",
   "metadata": {},
   "outputs": [
    {
     "name": "stdout",
     "output_type": "stream",
     "text": [
      "0\n",
      "1\n",
      "3\n",
      "4\n"
     ]
    }
   ],
   "source": [
    "for numero in range(5):\n",
    "    if numero == 2:\n",
    "        continue\n",
    "    print(numero)\n",
    "# Saída: 0, 1, 3, 4"
   ]
  },
  {
   "cell_type": "code",
   "execution_count": 6,
   "id": "481711f0",
   "metadata": {},
   "outputs": [
    {
     "name": "stdout",
     "output_type": "stream",
     "text": [
      "Samara\n",
      "Heitor\n",
      "Maura\n"
     ]
    }
   ],
   "source": [
    "nomes = ['Rondi','Samara','Heitor','Maura']\n",
    "\n",
    "for nome in nomes:\n",
    "    if nome == 'Rondi':\n",
    "        continue\n",
    "    print(nome)"
   ]
  },
  {
   "cell_type": "markdown",
   "id": "9f54f2e7",
   "metadata": {},
   "source": [
    "### Resumo do `break`\n",
    "- O comando `break` também é usado em loops.\n",
    "- Quando o `break` é executado, ele encerra `imediatamente` o loop, independentemente de quantas iterações faltam.\n",
    "- Útil para parar o loop quando uma condição é satisfeita."
   ]
  },
  {
   "cell_type": "code",
   "execution_count": 9,
   "id": "316838ed",
   "metadata": {},
   "outputs": [
    {
     "name": "stdout",
     "output_type": "stream",
     "text": [
      "0\n",
      "1\n"
     ]
    }
   ],
   "source": [
    "for numero in range(5):\n",
    "    if numero == 2:\n",
    "        break\n",
    "    print(numero)\n",
    "# Saída: 0, 1"
   ]
  },
  {
   "cell_type": "code",
   "execution_count": 7,
   "id": "a0d24256",
   "metadata": {},
   "outputs": [
    {
     "name": "stdout",
     "output_type": "stream",
     "text": [
      "Rondi\n"
     ]
    }
   ],
   "source": [
    "nomes = ['Rondi','Samara','Heitor','Maura']\n",
    "\n",
    "for nome in nomes:\n",
    "    if nome == 'Samara':\n",
    "        break\n",
    "    print(nome)"
   ]
  }
 ],
 "metadata": {
  "kernelspec": {
   "display_name": "Python 3",
   "language": "python",
   "name": "python3"
  },
  "language_info": {
   "codemirror_mode": {
    "name": "ipython",
    "version": 3
   },
   "file_extension": ".py",
   "mimetype": "text/x-python",
   "name": "python",
   "nbconvert_exporter": "python",
   "pygments_lexer": "ipython3",
   "version": "3.13.5"
  }
 },
 "nbformat": 4,
 "nbformat_minor": 5
}
