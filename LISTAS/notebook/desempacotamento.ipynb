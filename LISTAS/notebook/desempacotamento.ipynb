{
 "cells": [
  {
   "cell_type": "code",
   "execution_count": 1,
   "id": "609d05e0",
   "metadata": {},
   "outputs": [
    {
     "name": "stdout",
     "output_type": "stream",
     "text": [
      "10 20 30\n"
     ]
    }
   ],
   "source": [
    "lista = [10,20,30]\n",
    "a, b, c = lista\n",
    "print(a,b,c)\n"
   ]
  },
  {
   "cell_type": "code",
   "execution_count": 15,
   "id": "d5d9fceb",
   "metadata": {},
   "outputs": [
    {
     "name": "stdout",
     "output_type": "stream",
     "text": [
      "São Paulo -23.5505 -46.6333\n",
      "Rio de Janeiro -22.9068 -43.1729\n",
      "Brasília -15.7801 -47.9292\n"
     ]
    }
   ],
   "source": [
    "cidade1 = (\"São Paulo\", -23.5505, -46.6333)\n",
    "cidade2 = (\"Rio de Janeiro\", -22.9068, -43.1729)\n",
    "cidade3 = (\"Brasília\", -15.7801, -47.9292)\n",
    "\n",
    "cidades = [cidade1,cidade2,cidade3]\n",
    "\n",
    "for cidade in cidades:\n",
    "    nome, latitude, longitude = cidade\n",
    "    print(nome, latitude, longitude)"
   ]
  },
  {
   "cell_type": "code",
   "execution_count": 12,
   "id": "976f3e87",
   "metadata": {},
   "outputs": [
    {
     "name": "stdout",
     "output_type": "stream",
     "text": [
      "cidade São Paulo, latitude -23.5505, longitude-46.6333\n",
      "cidade Rio de Janeiro, latitude -22.9068, longitude-43.1729\n",
      "cidade Brasília, latitude -15.7801, longitude-47.9292\n"
     ]
    }
   ],
   "source": [
    "for cidade in cidades:  \n",
    "    nome, latitude, longitude = cidade\n",
    "    print(f'cidade {nome}, latitude {latitude}, longitude{longitude}')"
   ]
  },
  {
   "cell_type": "code",
   "execution_count": 16,
   "id": "14736542",
   "metadata": {},
   "outputs": [
    {
     "name": "stdout",
     "output_type": "stream",
     "text": [
      "São Paulo\n",
      "-23.5505\n",
      "-46.6333\n",
      "Rio de Janeiro\n",
      "-22.9068\n",
      "-43.1729\n",
      "Brasília\n",
      "-15.7801\n",
      "-47.9292\n"
     ]
    }
   ],
   "source": [
    "for cidade in cidades:\n",
    "    for descricao in cidade:\n",
    "        print(descricao)"
   ]
  },
  {
   "cell_type": "code",
   "execution_count": 20,
   "id": "48c3f4df",
   "metadata": {},
   "outputs": [
    {
     "name": "stdout",
     "output_type": "stream",
     "text": [
      "cidade São Paulo, latitude -23.5505, longitude-46.6333\n",
      "cidade Rio de Janeiro, latitude -22.9068, longitude-43.1729\n",
      "cidade Brasília, latitude -15.7801, longitude-47.9292\n"
     ]
    }
   ],
   "source": [
    "for cidade in cidades:\n",
    "    print(f'cidade {cidade[0]}, latitude {cidade[1]}, longitude{cidade[2]}')"
   ]
  },
  {
   "cell_type": "code",
   "execution_count": 22,
   "id": "557a69fa",
   "metadata": {},
   "outputs": [
    {
     "data": {
      "text/plain": [
       "['a', 'b', 'c', 'x', 'p', 't', 'o']"
      ]
     },
     "execution_count": 22,
     "metadata": {},
     "output_type": "execute_result"
    }
   ],
   "source": [
    "estoque1 = ['a','b','c']\n",
    "estoque2 = ['x','p','t','o']\n",
    "\n",
    "estoque1 + estoque2\n",
    "\n"
   ]
  }
 ],
 "metadata": {
  "kernelspec": {
   "display_name": "Python 3",
   "language": "python",
   "name": "python3"
  },
  "language_info": {
   "codemirror_mode": {
    "name": "ipython",
    "version": 3
   },
   "file_extension": ".py",
   "mimetype": "text/x-python",
   "name": "python",
   "nbconvert_exporter": "python",
   "pygments_lexer": "ipython3",
   "version": "3.13.5"
  }
 },
 "nbformat": 4,
 "nbformat_minor": 5
}
