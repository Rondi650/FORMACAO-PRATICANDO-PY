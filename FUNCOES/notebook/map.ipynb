{
 "cells": [
  {
   "cell_type": "code",
   "execution_count": 3,
   "id": "f9fc5b65",
   "metadata": {},
   "outputs": [
    {
     "data": {
      "text/plain": [
       "[500, 42, 56, 96, 85, 500]"
      ]
     },
     "execution_count": 3,
     "metadata": {},
     "output_type": "execute_result"
    }
   ],
   "source": [
    "valores = input(\"Digite os valores das vendas: \").split()\n",
    "total = list(map(int, valores))\n",
    "\n",
    "total\n"
   ]
  },
  {
   "cell_type": "code",
   "execution_count": 4,
   "id": "79fd09b1",
   "metadata": {},
   "outputs": [
    {
     "name": "stdout",
     "output_type": "stream",
     "text": [
      "[10, 20, 30]\n"
     ]
    }
   ],
   "source": [
    "valores = ['10', '20', '30']\n",
    "inteiros = list(map(int, valores))\n",
    "print(inteiros)  # Saída: [10, 20, 30]"
   ]
  },
  {
   "cell_type": "code",
   "execution_count": 5,
   "id": "84bbb4fb",
   "metadata": {},
   "outputs": [
    {
     "name": "stdout",
     "output_type": "stream",
     "text": [
      "['Ana', 'Joao', 'Maria']\n"
     ]
    }
   ],
   "source": [
    "nomes = ['ana', 'joao', 'maria']\n",
    "maiusculos = list(map(str.capitalize, nomes))\n",
    "print(maiusculos)  # Saída: ['Ana', 'Joao', 'Maria']"
   ]
  },
  {
   "cell_type": "code",
   "execution_count": 6,
   "id": "ee779dee",
   "metadata": {},
   "outputs": [
    {
     "name": "stdout",
     "output_type": "stream",
     "text": [
      "[2, 4, 6]\n"
     ]
    }
   ],
   "source": [
    "numeros = [1, 2, 3, 4, 5, 6]\n",
    "pares = list(filter(lambda x: x % 2 == 0, numeros))\n",
    "print(pares)  # Saída: [2, 4, 6]"
   ]
  },
  {
   "cell_type": "code",
   "execution_count": 7,
   "id": "d96cacac",
   "metadata": {},
   "outputs": [
    {
     "name": "stdout",
     "output_type": "stream",
     "text": [
      "['joao']\n"
     ]
    }
   ],
   "source": [
    "nomes = ['ana', 'joao', 'li', 'bia']\n",
    "maiores = list(filter(lambda nome: len(nome) > 3, nomes))\n",
    "print(maiores)  # Saída: ['joao']"
   ]
  },
  {
   "cell_type": "code",
   "execution_count": 8,
   "id": "ab4a0415",
   "metadata": {},
   "outputs": [
    {
     "name": "stdout",
     "output_type": "stream",
     "text": [
      "[5, 8]\n"
     ]
    }
   ],
   "source": [
    "valores = [-2, 0, 5, 8, -1]\n",
    "positivos = list(filter(lambda x: x > 0, valores))\n",
    "print(positivos)  # Saída: [5, 8]"
   ]
  },
  {
   "cell_type": "code",
   "execution_count": 27,
   "id": "76426848",
   "metadata": {},
   "outputs": [
    {
     "data": {
      "text/plain": [
       "'ellenidnor'"
      ]
     },
     "execution_count": 27,
     "metadata": {},
     "output_type": "execute_result"
    }
   ],
   "source": [
    "nome = 'rondinelle'\n",
    "\n",
    "lista = [x for x in nome]\n",
    "inverso = list(reversed(lista))\n",
    "invertido = ''.join(inverso)\n",
    "invertido"
   ]
  },
  {
   "cell_type": "code",
   "execution_count": 28,
   "id": "8b15bfbc",
   "metadata": {},
   "outputs": [
    {
     "data": {
      "text/plain": [
       "'ellenidnor'"
      ]
     },
     "execution_count": 28,
     "metadata": {},
     "output_type": "execute_result"
    }
   ],
   "source": [
    "nome = 'rondinelle'\n",
    "\n",
    "nome[::-1]"
   ]
  }
 ],
 "metadata": {
  "kernelspec": {
   "display_name": "Python 3",
   "language": "python",
   "name": "python3"
  },
  "language_info": {
   "codemirror_mode": {
    "name": "ipython",
    "version": 3
   },
   "file_extension": ".py",
   "mimetype": "text/x-python",
   "name": "python",
   "nbconvert_exporter": "python",
   "pygments_lexer": "ipython3",
   "version": "3.13.5"
  }
 },
 "nbformat": 4,
 "nbformat_minor": 5
}
