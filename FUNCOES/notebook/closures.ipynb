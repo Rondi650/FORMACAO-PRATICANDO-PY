{
 "cells": [
  {
   "cell_type": "code",
   "execution_count": 2,
   "id": "4aa21063",
   "metadata": {},
   "outputs": [
    {
     "data": {
      "text/plain": [
       "'teste, oi'"
      ]
     },
     "execution_count": 2,
     "metadata": {},
     "output_type": "execute_result"
    }
   ],
   "source": [
    "def saudar(x):\n",
    "    def saudacao(y):\n",
    "        return f\"{x}, {y}\"\n",
    "    return saudacao\n",
    "\n",
    "ola = saudar('teste')\n",
    "ola('oi')"
   ]
  },
  {
   "cell_type": "code",
   "execution_count": 9,
   "id": "73379f77",
   "metadata": {},
   "outputs": [
    {
     "data": {
      "text/plain": [
       "'teste, teste'"
      ]
     },
     "execution_count": 9,
     "metadata": {},
     "output_type": "execute_result"
    }
   ],
   "source": [
    "def saudar2(x,y):\n",
    "    return f'{x}, {y}'\n",
    "\n",
    "saudar2('teste', 'teste')"
   ]
  },
  {
   "cell_type": "code",
   "execution_count": 1,
   "id": "0aac8319",
   "metadata": {},
   "outputs": [],
   "source": [
    "def listar():\n",
    "    lista = []\n",
    "    \n",
    "    def incluir(x):\n",
    "        lista.append(x)\n",
    "        print(lista)\n",
    "        \n",
    "    return incluir"
   ]
  },
  {
   "cell_type": "code",
   "execution_count": 3,
   "id": "7ee74f86",
   "metadata": {},
   "outputs": [
    {
     "name": "stdout",
     "output_type": "stream",
     "text": [
      "[5]\n",
      "[5, 7]\n",
      "[5, 7, 9]\n"
     ]
    }
   ],
   "source": [
    "receber_numero = listar()\n",
    "receber_numero(5)\n",
    "receber_numero(7)\n",
    "receber_numero(9)"
   ]
  },
  {
   "cell_type": "code",
   "execution_count": null,
   "id": "ffe63f35",
   "metadata": {},
   "outputs": [],
   "source": [
    "class Listar:\n",
    "    lista = []\n",
    "    \n",
    "    def listar(self,incluir):\n",
    "        self.lista.append(incluir)\n",
    "        print(self.lista)"
   ]
  },
  {
   "cell_type": "code",
   "execution_count": 6,
   "id": "5f8dac56",
   "metadata": {},
   "outputs": [
    {
     "name": "stdout",
     "output_type": "stream",
     "text": [
      "[5]\n",
      "[5, 7]\n",
      "[5, 7, 9]\n"
     ]
    }
   ],
   "source": [
    "meu_lista = Listar()\n",
    "meu_lista.listar(5)   # Saída: [5]\n",
    "meu_lista.listar(7)   # Saída: [5, 7]\n",
    "meu_lista.listar(9)   # Saída: [5, 7, 9]"
   ]
  },
  {
   "cell_type": "code",
   "execution_count": 27,
   "id": "5d1ca312",
   "metadata": {},
   "outputs": [],
   "source": [
    "class Listar_v2:\n",
    "    lista = []\n",
    "    \n",
    "    def __init__(self, incluir=int):\n",
    "        self.lista.append(incluir)\n",
    "        print(self.lista)\n",
    "        \n",
    "        "
   ]
  },
  {
   "cell_type": "code",
   "execution_count": 28,
   "id": "9d5bd320",
   "metadata": {},
   "outputs": [
    {
     "name": "stdout",
     "output_type": "stream",
     "text": [
      "[5]\n",
      "[5, 7]\n",
      "[5, 7, 9]\n"
     ]
    }
   ],
   "source": [
    "novo = Listar_v2(5)\n",
    "novo = Listar_v2(7)\n",
    "novo = Listar_v2(9)"
   ]
  },
  {
   "cell_type": "code",
   "execution_count": 83,
   "id": "d6c98f0e",
   "metadata": {},
   "outputs": [],
   "source": [
    "class Usuario:\n",
    "    def __init__(self, nome, email):\n",
    "        self.nome = nome\n",
    "        self.email = email\n",
    "        self.lista = []   \n",
    "        \n",
    "    def avaliacaoes(self, nota):\n",
    "        self.lista.append(nota)\n",
    "        \n",
    "    def __str__(self):\n",
    "        return f'{self.nome} | {self.email} | {self.media}'\n",
    "        \n",
    "    @property\n",
    "    def media(self):\n",
    "        try:\n",
    "            soma = sum([nota for nota in self.lista])\n",
    "            qtd = len(self.lista)\n",
    "            media = f'{(soma/qtd):.2f}'\n",
    "            return media\n",
    "        except ZeroDivisionError:\n",
    "            return str('Sem avaliacoes')\n",
    "        "
   ]
  },
  {
   "cell_type": "code",
   "execution_count": 86,
   "id": "da5a76a3",
   "metadata": {},
   "outputs": [
    {
     "name": "stdout",
     "output_type": "stream",
     "text": [
      "Rondi | rondi@email | 4.96\n"
     ]
    }
   ],
   "source": [
    "usuario1 = Usuario('Rondi','rondi@email')\n",
    "usuario1.avaliacaoes(5)\n",
    "usuario1.avaliacaoes(2)\n",
    "usuario1.avaliacaoes(7.89)\n",
    "print(usuario1)\n"
   ]
  },
  {
   "cell_type": "code",
   "execution_count": 90,
   "id": "1ab0998f",
   "metadata": {},
   "outputs": [
    {
     "data": {
      "text/plain": [
       "156.0"
      ]
     },
     "execution_count": 90,
     "metadata": {},
     "output_type": "execute_result"
    }
   ],
   "source": [
    "def desconto(x):\n",
    "    def compra(y):\n",
    "        return y - (y * x/100)\n",
    "    return compra\n",
    "\n",
    "x = desconto(22)\n",
    "y = x(200)\n",
    "y"
   ]
  }
 ],
 "metadata": {
  "kernelspec": {
   "display_name": "Python 3",
   "language": "python",
   "name": "python3"
  },
  "language_info": {
   "codemirror_mode": {
    "name": "ipython",
    "version": 3
   },
   "file_extension": ".py",
   "mimetype": "text/x-python",
   "name": "python",
   "nbconvert_exporter": "python",
   "pygments_lexer": "ipython3",
   "version": "3.13.5"
  }
 },
 "nbformat": 4,
 "nbformat_minor": 5
}
