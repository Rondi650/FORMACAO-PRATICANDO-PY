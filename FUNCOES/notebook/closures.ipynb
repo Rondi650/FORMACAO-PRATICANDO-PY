{
 "cells": [
  {
   "cell_type": "code",
   "execution_count": 8,
   "id": "4aa21063",
   "metadata": {},
   "outputs": [
    {
     "data": {
      "text/plain": [
       "'teste, teste'"
      ]
     },
     "execution_count": 8,
     "metadata": {},
     "output_type": "execute_result"
    }
   ],
   "source": [
    "def saudar(x):\n",
    "    def saudacao(y):\n",
    "        return f\"{x}, {y}\"\n",
    "    return saudacao\n",
    "\n",
    "ola = saudar('teste')\n",
    "ola('teste')"
   ]
  },
  {
   "cell_type": "code",
   "execution_count": 9,
   "id": "73379f77",
   "metadata": {},
   "outputs": [
    {
     "data": {
      "text/plain": [
       "'teste, teste'"
      ]
     },
     "execution_count": 9,
     "metadata": {},
     "output_type": "execute_result"
    }
   ],
   "source": [
    "def saudar2(x,y):\n",
    "    return f'{x}, {y}'\n",
    "\n",
    "saudar2('teste', 'teste')"
   ]
  }
 ],
 "metadata": {
  "kernelspec": {
   "display_name": "Python 3",
   "language": "python",
   "name": "python3"
  },
  "language_info": {
   "codemirror_mode": {
    "name": "ipython",
    "version": 3
   },
   "file_extension": ".py",
   "mimetype": "text/x-python",
   "name": "python",
   "nbconvert_exporter": "python",
   "pygments_lexer": "ipython3",
   "version": "3.13.5"
  }
 },
 "nbformat": 4,
 "nbformat_minor": 5
}
